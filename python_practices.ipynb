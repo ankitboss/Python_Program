{
 "cells": [
  {
   "cell_type": "code",
   "execution_count": 7,
   "metadata": {},
   "outputs": [
    {
     "name": "stdout",
     "output_type": "stream",
     "text": [
      "Hello anki\n",
      "ankit\"ankit\n",
      "shubham's father\n"
     ]
    }
   ],
   "source": [
    "print(\"Hello anki\")\n",
    "print('ankit\"ankit')\n",
    "print(\"shubham's father\")"
   ]
  },
  {
   "cell_type": "code",
   "execution_count": 5,
   "metadata": {},
   "outputs": [
    {
     "name": "stdout",
     "output_type": "stream",
     "text": [
      "o----\n"
     ]
    }
   ],
   "source": [
    "print('o----')"
   ]
  },
  {
   "cell_type": "code",
   "execution_count": 9,
   "metadata": {},
   "outputs": [
    {
     "name": "stdout",
     "output_type": "stream",
     "text": [
      " ||||\n",
      "&&&&&\n"
     ]
    }
   ],
   "source": [
    "print(' ||||')\n",
    "print('&'*5)"
   ]
  },
  {
   "cell_type": "code",
   "execution_count": 10,
   "metadata": {},
   "outputs": [
    {
     "name": "stdout",
     "output_type": "stream",
     "text": [
      "20\n"
     ]
    }
   ],
   "source": [
    "price=10\n",
    "price=20\n",
    "print(price)"
   ]
  },
  {
   "cell_type": "code",
   "execution_count": 14,
   "metadata": {},
   "outputs": [
    {
     "name": "stdout",
     "output_type": "stream",
     "text": [
      "True\n"
     ]
    }
   ],
   "source": [
    "price=10\n",
    "rating=4.9\n",
    "name='anki'\n",
    "price = True\n",
    "print(price)"
   ]
  },
  {
   "cell_type": "code",
   "execution_count": 4,
   "metadata": {},
   "outputs": [
    {
     "name": "stdout",
     "output_type": "stream",
     "text": [
      "hello anki your age is :22\n"
     ]
    }
   ],
   "source": [
    "full_name = 'anki'\n",
    "age = 22\n",
    "is_new = True\n",
    "print(f\"hello {full_name} your age is :{age}\")"
   ]
  },
  {
   "cell_type": "code",
   "execution_count": 5,
   "metadata": {},
   "outputs": [
    {
     "name": "stdout",
     "output_type": "stream",
     "text": [
      "what is your name :anki\n",
      "Hi anki\n"
     ]
    }
   ],
   "source": [
    "name = input('what is your name :')\n",
    "print('Hi',name)"
   ]
  },
  {
   "cell_type": "code",
   "execution_count": 7,
   "metadata": {},
   "outputs": [
    {
     "name": "stdout",
     "output_type": "stream",
     "text": [
      "What is your name :anki\n",
      "What is favourite :blACK\n",
      "ankiblACK\n"
     ]
    }
   ],
   "source": [
    "person_name = input('What is your name :')\n",
    "favourite_color = input('What is favourite :')\n",
    "print(person_name + favourite_color)"
   ]
  },
  {
   "cell_type": "code",
   "execution_count": 6,
   "metadata": {},
   "outputs": [
    {
     "name": "stdout",
     "output_type": "stream",
     "text": [
      "birth year :2002\n",
      "<class 'str'>\n",
      "<class 'int'>\n",
      "17\n"
     ]
    }
   ],
   "source": [
    "birth_year = input('birth year :')\n",
    "print(type(birth_year))\n",
    "age = 2019 - int(birth_year)\n",
    "print(type(age))\n",
    "print(age)"
   ]
  },
  {
   "cell_type": "code",
   "execution_count": 14,
   "metadata": {},
   "outputs": [
    {
     "name": "stdout",
     "output_type": "stream",
     "text": [
      "please enter your weight (in pounds)160\n",
      "<class 'str'>\n",
      "<class 'float'>\n",
      "Your weight in kilograms : 72.0\n"
     ]
    }
   ],
   "source": [
    "weight_in_pounds = input('please enter your weight (in pounds)')\n",
    "print(type(weight_in_pounds))\n",
    "weight_in_kg  = float(weight_in_pounds)*0.45\n",
    "print(type(weight_in_kg))\n",
    "print('Your weight in kilograms :',weight_in_kg)"
   ]
  },
  {
   "cell_type": "code",
   "execution_count": 17,
   "metadata": {},
   "outputs": [
    {
     "name": "stdout",
     "output_type": "stream",
     "text": [
      "\n",
      "python for beginners\n",
      "im ankit\n",
      "im learn pthon\n",
      " i will do it fast\n",
      "     \n",
      "print(course)\n",
      "\n"
     ]
    }
   ],
   "source": [
    "course = '''\n",
    "python for beginners\n",
    "im ankit\n",
    "im learn pthon\n",
    " i will do it fast\n",
    "     \n",
    "print(course)\n",
    "'''\n",
    "print(course)"
   ]
  },
  {
   "cell_type": "code",
   "execution_count": 40,
   "metadata": {},
   "outputs": [
    {
     "name": "stdout",
     "output_type": "stream",
     "text": [
      "p\n"
     ]
    }
   ],
   "source": [
    "course = 'python for beginners'\n",
    "print(course[0])"
   ]
  },
  {
   "cell_type": "code",
   "execution_count": 11,
   "metadata": {},
   "outputs": [
    {
     "name": "stdout",
     "output_type": "stream",
     "text": [
      "['b']\n"
     ]
    }
   ],
   "source": [
    "name = ['a','b','c','d']\n",
    "print(name[1:-2])"
   ]
  },
  {
   "cell_type": "code",
   "execution_count": 1,
   "metadata": {},
   "outputs": [
    {
     "name": "stdout",
     "output_type": "stream",
     "text": [
      "John[smith] is a coder\n",
      "John[smith] is a coder\n"
     ]
    }
   ],
   "source": [
    "first = 'John'\n",
    "last = 'smith'\n",
    "message = first +'['+last+'] is a coder'\n",
    "msg = f'{first}[{last}] is a coder'\n",
    "print(msg)\n",
    "print(message)"
   ]
  },
  {
   "cell_type": "code",
   "execution_count": 13,
   "metadata": {},
   "outputs": [
    {
     "name": "stdout",
     "output_type": "stream",
     "text": [
      "20\n",
      "Python for Beginners\n"
     ]
    }
   ],
   "source": [
    "course = 'Python for Beginners'\n",
    "msg=course\n",
    "print(len(course))\n",
    "print(msg)"
   ]
  },
  {
   "cell_type": "code",
   "execution_count": 49,
   "metadata": {},
   "outputs": [
    {
     "name": "stdout",
     "output_type": "stream",
     "text": [
      "PYTHON FOR BEGINNERS\n",
      "python for beginners\n",
      "Python for Beginners\n"
     ]
    }
   ],
   "source": [
    "course = 'Python for Beginners'\n",
    "print(course.upper())\n",
    "print(course.lower())\n",
    "print(course)"
   ]
  },
  {
   "cell_type": "code",
   "execution_count": 3,
   "metadata": {},
   "outputs": [
    {
     "name": "stdout",
     "output_type": "stream",
     "text": [
      "Python for bA ginnA rs\n"
     ]
    }
   ],
   "source": [
    "course = 'Python for beginners'\n",
    "print(course.replace('e','A '))"
   ]
  },
  {
   "cell_type": "code",
   "execution_count": 23,
   "metadata": {},
   "outputs": [
    {
     "name": "stdout",
     "output_type": "stream",
     "text": [
      "True\n",
      "20\n",
      "PYTHON FOR BEGINNERS\n",
      "python for beginners\n",
      "Python For Beginners\n",
      "4\n",
      "Python for beginners\n"
     ]
    },
    {
     "data": {
      "text/plain": [
       "False"
      ]
     },
     "execution_count": 23,
     "metadata": {},
     "output_type": "execute_result"
    }
   ],
   "source": [
    "course = 'Python for beginners'\n",
    "print('Python' in course)\n",
    "print(len(course))\n",
    "print(course.upper())\n",
    "print(course.lower())\n",
    "print(course.title())\n",
    "print(course.find('o'))\n",
    "print(course.replace('P','P'))\n",
    "'.....' in course"
   ]
  },
  {
   "cell_type": "code",
   "execution_count": 29,
   "metadata": {},
   "outputs": [
    {
     "name": "stdout",
     "output_type": "stream",
     "text": [
      "3\n",
      "1\n",
      "1000\n"
     ]
    },
    {
     "data": {
      "text/plain": [
       "True"
      ]
     },
     "execution_count": 29,
     "metadata": {},
     "output_type": "execute_result"
    }
   ],
   "source": [
    "hello = \"hello\"\n",
    "\n",
    "print(10//3)\n",
    "print(10%3)\n",
    "print(10**3)\n",
    "'hello'in hello"
   ]
  },
  {
   "cell_type": "code",
   "execution_count": 65,
   "metadata": {},
   "outputs": [
    {
     "name": "stdout",
     "output_type": "stream",
     "text": [
      "13\n"
     ]
    }
   ],
   "source": [
    "x = 10\n",
    "x = x+3\n",
    "x += 3\n",
    "x -= 3\n",
    "print(x)"
   ]
  },
  {
   "cell_type": "code",
   "execution_count": 70,
   "metadata": {},
   "outputs": [
    {
     "name": "stdout",
     "output_type": "stream",
     "text": [
      "3.25\n"
     ]
    }
   ],
   "source": [
    "x = (10+3)/2**2\n",
    "print(x)"
   ]
  },
  {
   "cell_type": "code",
   "execution_count": 71,
   "metadata": {},
   "outputs": [
    {
     "name": "stdout",
     "output_type": "stream",
     "text": [
      "47\n"
     ]
    }
   ],
   "source": [
    "x = (2+3)*10-3\n",
    "print(x)"
   ]
  },
  {
   "cell_type": "code",
   "execution_count": 72,
   "metadata": {},
   "outputs": [
    {
     "name": "stdout",
     "output_type": "stream",
     "text": [
      "35\n"
     ]
    }
   ],
   "source": [
    "x = (2+3)*(10-3)\n",
    "print(x)"
   ]
  },
  {
   "cell_type": "code",
   "execution_count": 73,
   "metadata": {},
   "outputs": [
    {
     "name": "stdout",
     "output_type": "stream",
     "text": [
      "3\n"
     ]
    }
   ],
   "source": [
    "x = 2.9\n",
    "print(round(x))"
   ]
  },
  {
   "cell_type": "code",
   "execution_count": 74,
   "metadata": {},
   "outputs": [
    {
     "name": "stdout",
     "output_type": "stream",
     "text": [
      "2.9\n"
     ]
    }
   ],
   "source": [
    "x=2.9\n",
    "print(abs(-2.9))"
   ]
  },
  {
   "cell_type": "code",
   "execution_count": 76,
   "metadata": {},
   "outputs": [
    {
     "name": "stdout",
     "output_type": "stream",
     "text": [
      "3\n"
     ]
    }
   ],
   "source": [
    "import math\n",
    "print(math.ceil(2.9))"
   ]
  },
  {
   "cell_type": "code",
   "execution_count": 77,
   "metadata": {},
   "outputs": [
    {
     "name": "stdout",
     "output_type": "stream",
     "text": [
      "2\n"
     ]
    }
   ],
   "source": [
    "import math\n",
    "print(math.floor(2.9))"
   ]
  },
  {
   "cell_type": "code",
   "execution_count": 78,
   "metadata": {},
   "outputs": [
    {
     "name": "stdout",
     "output_type": "stream",
     "text": [
      "It's a hot day\n",
      "Enjoy your day\n"
     ]
    }
   ],
   "source": [
    "is_hot =True\n",
    "if is_hot:\n",
    "    print(\"It's a hot day\")\n",
    "print(\"Enjoy your day\")"
   ]
  },
  {
   "cell_type": "code",
   "execution_count": 2,
   "metadata": {},
   "outputs": [
    {
     "name": "stdout",
     "output_type": "stream",
     "text": [
      "Enter your day\n"
     ]
    }
   ],
   "source": [
    "is_hot =False\n",
    "if is_hot:\n",
    "    print(\"It's a hot day\")\n",
    "print(\"Enter your day\")"
   ]
  },
  {
   "cell_type": "code",
   "execution_count": 1,
   "metadata": {},
   "outputs": [
    {
     "name": "stdout",
     "output_type": "stream",
     "text": [
      "It's a hot day\n",
      "Drink plenty of water\n"
     ]
    }
   ],
   "source": [
    "is_hot =False\n",
    "if is_hot:\n",
    "    print(\"It's a hot day\")\n",
    "    print('Drink plenty of water')"
   ]
  },
  {
   "cell_type": "code",
   "execution_count": 2,
   "metadata": {},
   "outputs": [
    {
     "name": "stdout",
     "output_type": "stream",
     "text": [
      "they need to put down 10%\n",
      "print the down payment\n"
     ]
    }
   ],
   "source": [
    "good_credit=True\n",
    "if good_credit:\n",
    "    print(\"they need to put down 10%\")\n",
    "else:\n",
    "    print('they need to put down 20%')\n",
    "print('print the down payment')"
   ]
  },
  {
   "cell_type": "code",
   "execution_count": 3,
   "metadata": {},
   "outputs": [
    {
     "name": "stdout",
     "output_type": "stream",
     "text": [
      "Down payment:$10000.0\n"
     ]
    }
   ],
   "source": [
    "price=100000\n",
    "good_credit=True\n",
    "if good_credit:\n",
    "    down_payment = 0.1*price\n",
    "else:\n",
    "    down_payment = 0.2*price\n",
    "print(f\"Down payment:${down_payment}\")"
   ]
  },
  {
   "cell_type": "code",
   "execution_count": 3,
   "metadata": {},
   "outputs": [
    {
     "name": "stdout",
     "output_type": "stream",
     "text": [
      "Eligible for loan\n"
     ]
    }
   ],
   "source": [
    "has_good_credit = True\n",
    "has_criminal_record =False\n",
    "\n",
    "if has_good_credit and not has_criminal_record:\n",
    "    print('Eligible for loan')"
   ]
  },
  {
   "cell_type": "code",
   "execution_count": 13,
   "metadata": {},
   "outputs": [
    {
     "name": "stdout",
     "output_type": "stream",
     "text": [
      "its normal day\n"
     ]
    }
   ],
   "source": [
    "temperature = 30\n",
    "if temperature>30:\n",
    "    print('its a hot day')\n",
    "elif temperature<30:\n",
    "    print('its a cool day')\n",
    "else:\n",
    "    print('its normal day')"
   ]
  },
  {
   "cell_type": "code",
   "execution_count": 14,
   "metadata": {},
   "outputs": [
    {
     "name": "stdout",
     "output_type": "stream",
     "text": [
      "Name looks good\n"
     ]
    }
   ],
   "source": [
    "name = 15\n",
    "if name<3:\n",
    "    print(\"name must be at least 3 characters\")\n",
    "elif name>50:\n",
    "    print(\"name can be a maximum of 50 characters\")\n",
    "else:\n",
    "    print(\"Name looks good\")"
   ]
  },
  {
   "cell_type": "code",
   "execution_count": 16,
   "metadata": {},
   "outputs": [
    {
     "name": "stdout",
     "output_type": "stream",
     "text": [
      "Name looks good \n"
     ]
    }
   ],
   "source": [
    "name = \"Ankit boss\"\n",
    "if len(name)<3:\n",
    "    print(\"Name must be at least 3 characters\")\n",
    "elif len(name)>50:\n",
    "    print(\"Name can not be a maximum of 50 characters\")\n",
    "else:\n",
    "    print(\"Name looks good \")"
   ]
  },
  {
   "cell_type": "code",
   "execution_count": 7,
   "metadata": {},
   "outputs": [
    {
     "name": "stdout",
     "output_type": "stream",
     "text": [
      "weight: 160\n",
      "(L)bs or (K)g: a\n",
      "Please enter valid unit\n"
     ]
    }
   ],
   "source": [
    "weight = int(input('weight: '))\n",
    "unit = input('(L)bs or (K)g: ')\n",
    "if unit.upper() == \"L\":\n",
    "    converted = weight * 0.45\n",
    "    print(f\"You are {converted} kilos\")\n",
    "elif unit.upper() ==\"K\":\n",
    "    converted = weight / 0.45\n",
    "    print(f\"You are {converted} pounds\")\n",
    "else:\n",
    "    print(\"Please enter valid unit\")"
   ]
  },
  {
   "cell_type": "code",
   "execution_count": 37,
   "metadata": {},
   "outputs": [
    {
     "name": "stdout",
     "output_type": "stream",
     "text": [
      "* * * * * * * * * * * * * * * \n",
      "* * * * * * * * * * * * * * \n",
      "* * * * * * * * * * * * * \n",
      "* * * * * * * * * * * * \n",
      "* * * * * * * * * * * \n",
      "* * * * * * * * * * \n",
      "* * * * * * * * * \n",
      "* * * * * * * * \n",
      "* * * * * * * \n",
      "* * * * * * \n",
      "* * * * * \n",
      "* * * * \n",
      "* * * \n",
      "* * \n",
      "* \n",
      "Done\n",
      "\n",
      "\n",
      "& \n",
      " \n",
      "& & \n",
      "  \n",
      "& & & \n",
      "   \n",
      "& & & & \n",
      "    \n",
      "& & & & & \n",
      "     \n",
      "& & & & & & \n",
      "      \n",
      "& & & & & & & \n",
      "       \n",
      "& & & & & & & & \n",
      "        \n",
      "& & & & & & & & & \n",
      "         \n",
      "& & & & & & & & & & \n",
      "          \n",
      "& & & & & & & & & & & \n",
      "           \n",
      "& & & & & & & & & & & & \n",
      "            \n",
      "& & & & & & & & & & & & & \n",
      "             \n",
      "& & & & & & & & & & & & & & \n",
      "              \n",
      "& & & & & & & & & & & & & & & \n",
      "               \n"
     ]
    }
   ],
   "source": [
    "i = 15\n",
    "while i>=1:\n",
    "    print('* '*(i))\n",
    "    \n",
    "    i = i-1\n",
    "print(\"Done\")\n",
    "while i<=15:\n",
    "    print('& '*i)\n",
    "    i = i+1"
   ]
  },
  {
   "cell_type": "code",
   "execution_count": 32,
   "metadata": {},
   "outputs": [
    {
     "name": "stdout",
     "output_type": "stream",
     "text": [
      "Guess: 3\n",
      "Guess: 4\n",
      "You won!\n"
     ]
    }
   ],
   "source": [
    "secret_number = 1+3\n",
    "guess_count =0\n",
    "guess_limit = 3\n",
    "while guess_count < guess_limit:\n",
    "    guess = int(input('Guess: '))\n",
    "    guess_count +=1\n",
    "    if guess == secret_number:\n",
    "        print('You won!')\n",
    "        break\n",
    "else:\n",
    "    print(\"Sorry, You are failed \")"
   ]
  },
  {
   "cell_type": "code",
   "execution_count": null,
   "metadata": {},
   "outputs": [],
   "source": [
    "command = \"\"\n",
    "while command.lower() != \"quit\":\n",
    "    command = input(\">\")\n",
    "    if command.lower() == \"start\":\n",
    "        print(\"Car started...\")\n",
    "    elif command.lower() == \"stop\":\n",
    "        print(\"Car stopped\")\n",
    "        "
   ]
  }
 ],
 "metadata": {
  "kernelspec": {
   "display_name": "Python 3",
   "language": "python",
   "name": "python3"
  },
  "language_info": {
   "codemirror_mode": {
    "name": "ipython",
    "version": 3
   },
   "file_extension": ".py",
   "mimetype": "text/x-python",
   "name": "python",
   "nbconvert_exporter": "python",
   "pygments_lexer": "ipython3",
   "version": "3.7.3"
  }
 },
 "nbformat": 4,
 "nbformat_minor": 2
}
