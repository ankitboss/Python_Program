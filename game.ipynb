{
 "cells": [
  {
   "cell_type": "code",
   "execution_count": 1,
   "metadata": {},
   "outputs": [
    {
     "name": "stdout",
     "output_type": "stream",
     "text": [
      "pygame 1.9.6\n",
      "Hello from the pygame community. https://www.pygame.org/contribute.html\n",
      "[[0. 0. 0. 0. 0. 0. 0.]\n",
      " [0. 0. 0. 0. 0. 0. 0.]\n",
      " [0. 0. 0. 0. 0. 0. 0.]\n",
      " [0. 0. 0. 0. 0. 0. 0.]\n",
      " [0. 0. 0. 0. 0. 0. 0.]\n",
      " [0. 0. 0. 0. 0. 0. 0.]]\n",
      "[[0. 0. 0. 0. 0. 0. 0.]\n",
      " [0. 0. 0. 0. 0. 0. 0.]\n",
      " [0. 0. 0. 0. 0. 0. 0.]\n",
      " [0. 0. 0. 0. 0. 0. 0.]\n",
      " [0. 0. 0. 0. 0. 0. 0.]\n",
      " [0. 0. 1. 0. 0. 0. 0.]]\n"
     ]
    },
    {
     "ename": "IndexError",
     "evalue": "index 6 is out of bounds for axis 0 with size 6",
     "output_type": "error",
     "traceback": [
      "\u001b[1;31m---------------------------------------------------------------------------\u001b[0m",
      "\u001b[1;31mIndexError\u001b[0m                                Traceback (most recent call last)",
      "\u001b[1;32m<ipython-input-1-bf1491a27eea>\u001b[0m in \u001b[0;36m<module>\u001b[1;34m\u001b[0m\n\u001b[0;32m    269\u001b[0m                 \u001b[1;31m#col = random.randint(0, COLUMN_COUNT-1)\u001b[0m\u001b[1;33m\u001b[0m\u001b[1;33m\u001b[0m\u001b[1;33m\u001b[0m\u001b[0m\n\u001b[0;32m    270\u001b[0m                 \u001b[1;31m#col = pick_best_move(board, AI_PIECE)\u001b[0m\u001b[1;33m\u001b[0m\u001b[1;33m\u001b[0m\u001b[1;33m\u001b[0m\u001b[0m\n\u001b[1;32m--> 271\u001b[1;33m                 \u001b[0mcol\u001b[0m\u001b[1;33m,\u001b[0m \u001b[0mminimax_score\u001b[0m \u001b[1;33m=\u001b[0m \u001b[0mminimax\u001b[0m\u001b[1;33m(\u001b[0m\u001b[0mboard\u001b[0m\u001b[1;33m,\u001b[0m \u001b[1;36m5\u001b[0m\u001b[1;33m,\u001b[0m \u001b[1;33m-\u001b[0m\u001b[0mmath\u001b[0m\u001b[1;33m.\u001b[0m\u001b[0minf\u001b[0m\u001b[1;33m,\u001b[0m \u001b[0mmath\u001b[0m\u001b[1;33m.\u001b[0m\u001b[0minf\u001b[0m\u001b[1;33m,\u001b[0m \u001b[1;32mTrue\u001b[0m\u001b[1;33m)\u001b[0m\u001b[1;33m\u001b[0m\u001b[1;33m\u001b[0m\u001b[0m\n\u001b[0m\u001b[0;32m    272\u001b[0m \u001b[1;33m\u001b[0m\u001b[0m\n\u001b[0;32m    273\u001b[0m                 \u001b[1;32mif\u001b[0m \u001b[0mis_valid_location\u001b[0m\u001b[1;33m(\u001b[0m\u001b[0mboard\u001b[0m\u001b[1;33m,\u001b[0m \u001b[0mcol\u001b[0m\u001b[1;33m)\u001b[0m\u001b[1;33m:\u001b[0m\u001b[1;33m\u001b[0m\u001b[1;33m\u001b[0m\u001b[0m\n",
      "\u001b[1;32m<ipython-input-1-bf1491a27eea>\u001b[0m in \u001b[0;36mminimax\u001b[1;34m(board, depth, alpha, beta, maximizingPlayer)\u001b[0m\n\u001b[0;32m    141\u001b[0m                         \u001b[0mb_copy\u001b[0m \u001b[1;33m=\u001b[0m \u001b[0mboard\u001b[0m\u001b[1;33m.\u001b[0m\u001b[0mcopy\u001b[0m\u001b[1;33m(\u001b[0m\u001b[1;33m)\u001b[0m\u001b[1;33m\u001b[0m\u001b[1;33m\u001b[0m\u001b[0m\n\u001b[0;32m    142\u001b[0m                         \u001b[0mdrop_piece\u001b[0m\u001b[1;33m(\u001b[0m\u001b[0mb_copy\u001b[0m\u001b[1;33m,\u001b[0m \u001b[0mrow\u001b[0m\u001b[1;33m,\u001b[0m \u001b[0mcol\u001b[0m\u001b[1;33m,\u001b[0m \u001b[0mAI_PIECE\u001b[0m\u001b[1;33m)\u001b[0m\u001b[1;33m\u001b[0m\u001b[1;33m\u001b[0m\u001b[0m\n\u001b[1;32m--> 143\u001b[1;33m                         \u001b[0mnew_score\u001b[0m \u001b[1;33m=\u001b[0m \u001b[0mminimax\u001b[0m\u001b[1;33m(\u001b[0m\u001b[0mb_copy\u001b[0m\u001b[1;33m,\u001b[0m \u001b[0mdepth\u001b[0m\u001b[1;33m-\u001b[0m\u001b[1;36m1\u001b[0m\u001b[1;33m,\u001b[0m \u001b[0malpha\u001b[0m\u001b[1;33m,\u001b[0m \u001b[0mbeta\u001b[0m\u001b[1;33m,\u001b[0m \u001b[1;32mFalse\u001b[0m\u001b[1;33m)\u001b[0m\u001b[1;33m[\u001b[0m\u001b[1;36m1\u001b[0m\u001b[1;33m]\u001b[0m\u001b[1;33m\u001b[0m\u001b[1;33m\u001b[0m\u001b[0m\n\u001b[0m\u001b[0;32m    144\u001b[0m                         \u001b[1;32mif\u001b[0m \u001b[0mnew_score\u001b[0m \u001b[1;33m>\u001b[0m \u001b[0mvalue\u001b[0m\u001b[1;33m:\u001b[0m\u001b[1;33m\u001b[0m\u001b[1;33m\u001b[0m\u001b[0m\n\u001b[0;32m    145\u001b[0m                                 \u001b[0mvalue\u001b[0m \u001b[1;33m=\u001b[0m \u001b[0mnew_score\u001b[0m\u001b[1;33m\u001b[0m\u001b[1;33m\u001b[0m\u001b[0m\n",
      "\u001b[1;32m<ipython-input-1-bf1491a27eea>\u001b[0m in \u001b[0;36mminimax\u001b[1;34m(board, depth, alpha, beta, maximizingPlayer)\u001b[0m\n\u001b[0;32m    157\u001b[0m                         \u001b[0mb_copy\u001b[0m \u001b[1;33m=\u001b[0m \u001b[0mboard\u001b[0m\u001b[1;33m.\u001b[0m\u001b[0mcopy\u001b[0m\u001b[1;33m(\u001b[0m\u001b[1;33m)\u001b[0m\u001b[1;33m\u001b[0m\u001b[1;33m\u001b[0m\u001b[0m\n\u001b[0;32m    158\u001b[0m                         \u001b[0mdrop_piece\u001b[0m\u001b[1;33m(\u001b[0m\u001b[0mb_copy\u001b[0m\u001b[1;33m,\u001b[0m \u001b[0mrow\u001b[0m\u001b[1;33m,\u001b[0m \u001b[0mcol\u001b[0m\u001b[1;33m,\u001b[0m \u001b[0mPLAYER_PIECE\u001b[0m\u001b[1;33m)\u001b[0m\u001b[1;33m\u001b[0m\u001b[1;33m\u001b[0m\u001b[0m\n\u001b[1;32m--> 159\u001b[1;33m                         \u001b[0mnew_score\u001b[0m \u001b[1;33m=\u001b[0m \u001b[0mminimax\u001b[0m\u001b[1;33m(\u001b[0m\u001b[0mb_copy\u001b[0m\u001b[1;33m,\u001b[0m \u001b[0mdepth\u001b[0m\u001b[1;33m-\u001b[0m\u001b[1;36m1\u001b[0m\u001b[1;33m,\u001b[0m \u001b[0malpha\u001b[0m\u001b[1;33m,\u001b[0m \u001b[0mbeta\u001b[0m\u001b[1;33m,\u001b[0m \u001b[1;32mTrue\u001b[0m\u001b[1;33m)\u001b[0m\u001b[1;33m[\u001b[0m\u001b[1;36m1\u001b[0m\u001b[1;33m]\u001b[0m\u001b[1;33m\u001b[0m\u001b[1;33m\u001b[0m\u001b[0m\n\u001b[0m\u001b[0;32m    160\u001b[0m                         \u001b[1;32mif\u001b[0m \u001b[0mnew_score\u001b[0m \u001b[1;33m<\u001b[0m \u001b[0mvalue\u001b[0m\u001b[1;33m:\u001b[0m\u001b[1;33m\u001b[0m\u001b[1;33m\u001b[0m\u001b[0m\n\u001b[0;32m    161\u001b[0m                                 \u001b[0mvalue\u001b[0m \u001b[1;33m=\u001b[0m \u001b[0mnew_score\u001b[0m\u001b[1;33m\u001b[0m\u001b[1;33m\u001b[0m\u001b[0m\n",
      "\u001b[1;32m<ipython-input-1-bf1491a27eea>\u001b[0m in \u001b[0;36mminimax\u001b[1;34m(board, depth, alpha, beta, maximizingPlayer)\u001b[0m\n\u001b[0;32m    141\u001b[0m                         \u001b[0mb_copy\u001b[0m \u001b[1;33m=\u001b[0m \u001b[0mboard\u001b[0m\u001b[1;33m.\u001b[0m\u001b[0mcopy\u001b[0m\u001b[1;33m(\u001b[0m\u001b[1;33m)\u001b[0m\u001b[1;33m\u001b[0m\u001b[1;33m\u001b[0m\u001b[0m\n\u001b[0;32m    142\u001b[0m                         \u001b[0mdrop_piece\u001b[0m\u001b[1;33m(\u001b[0m\u001b[0mb_copy\u001b[0m\u001b[1;33m,\u001b[0m \u001b[0mrow\u001b[0m\u001b[1;33m,\u001b[0m \u001b[0mcol\u001b[0m\u001b[1;33m,\u001b[0m \u001b[0mAI_PIECE\u001b[0m\u001b[1;33m)\u001b[0m\u001b[1;33m\u001b[0m\u001b[1;33m\u001b[0m\u001b[0m\n\u001b[1;32m--> 143\u001b[1;33m                         \u001b[0mnew_score\u001b[0m \u001b[1;33m=\u001b[0m \u001b[0mminimax\u001b[0m\u001b[1;33m(\u001b[0m\u001b[0mb_copy\u001b[0m\u001b[1;33m,\u001b[0m \u001b[0mdepth\u001b[0m\u001b[1;33m-\u001b[0m\u001b[1;36m1\u001b[0m\u001b[1;33m,\u001b[0m \u001b[0malpha\u001b[0m\u001b[1;33m,\u001b[0m \u001b[0mbeta\u001b[0m\u001b[1;33m,\u001b[0m \u001b[1;32mFalse\u001b[0m\u001b[1;33m)\u001b[0m\u001b[1;33m[\u001b[0m\u001b[1;36m1\u001b[0m\u001b[1;33m]\u001b[0m\u001b[1;33m\u001b[0m\u001b[1;33m\u001b[0m\u001b[0m\n\u001b[0m\u001b[0;32m    144\u001b[0m                         \u001b[1;32mif\u001b[0m \u001b[0mnew_score\u001b[0m \u001b[1;33m>\u001b[0m \u001b[0mvalue\u001b[0m\u001b[1;33m:\u001b[0m\u001b[1;33m\u001b[0m\u001b[1;33m\u001b[0m\u001b[0m\n\u001b[0;32m    145\u001b[0m                                 \u001b[0mvalue\u001b[0m \u001b[1;33m=\u001b[0m \u001b[0mnew_score\u001b[0m\u001b[1;33m\u001b[0m\u001b[1;33m\u001b[0m\u001b[0m\n",
      "\u001b[1;32m<ipython-input-1-bf1491a27eea>\u001b[0m in \u001b[0;36mminimax\u001b[1;34m(board, depth, alpha, beta, maximizingPlayer)\u001b[0m\n\u001b[0;32m    157\u001b[0m                         \u001b[0mb_copy\u001b[0m \u001b[1;33m=\u001b[0m \u001b[0mboard\u001b[0m\u001b[1;33m.\u001b[0m\u001b[0mcopy\u001b[0m\u001b[1;33m(\u001b[0m\u001b[1;33m)\u001b[0m\u001b[1;33m\u001b[0m\u001b[1;33m\u001b[0m\u001b[0m\n\u001b[0;32m    158\u001b[0m                         \u001b[0mdrop_piece\u001b[0m\u001b[1;33m(\u001b[0m\u001b[0mb_copy\u001b[0m\u001b[1;33m,\u001b[0m \u001b[0mrow\u001b[0m\u001b[1;33m,\u001b[0m \u001b[0mcol\u001b[0m\u001b[1;33m,\u001b[0m \u001b[0mPLAYER_PIECE\u001b[0m\u001b[1;33m)\u001b[0m\u001b[1;33m\u001b[0m\u001b[1;33m\u001b[0m\u001b[0m\n\u001b[1;32m--> 159\u001b[1;33m                         \u001b[0mnew_score\u001b[0m \u001b[1;33m=\u001b[0m \u001b[0mminimax\u001b[0m\u001b[1;33m(\u001b[0m\u001b[0mb_copy\u001b[0m\u001b[1;33m,\u001b[0m \u001b[0mdepth\u001b[0m\u001b[1;33m-\u001b[0m\u001b[1;36m1\u001b[0m\u001b[1;33m,\u001b[0m \u001b[0malpha\u001b[0m\u001b[1;33m,\u001b[0m \u001b[0mbeta\u001b[0m\u001b[1;33m,\u001b[0m \u001b[1;32mTrue\u001b[0m\u001b[1;33m)\u001b[0m\u001b[1;33m[\u001b[0m\u001b[1;36m1\u001b[0m\u001b[1;33m]\u001b[0m\u001b[1;33m\u001b[0m\u001b[1;33m\u001b[0m\u001b[0m\n\u001b[0m\u001b[0;32m    160\u001b[0m                         \u001b[1;32mif\u001b[0m \u001b[0mnew_score\u001b[0m \u001b[1;33m<\u001b[0m \u001b[0mvalue\u001b[0m\u001b[1;33m:\u001b[0m\u001b[1;33m\u001b[0m\u001b[1;33m\u001b[0m\u001b[0m\n\u001b[0;32m    161\u001b[0m                                 \u001b[0mvalue\u001b[0m \u001b[1;33m=\u001b[0m \u001b[0mnew_score\u001b[0m\u001b[1;33m\u001b[0m\u001b[1;33m\u001b[0m\u001b[0m\n",
      "\u001b[1;32m<ipython-input-1-bf1491a27eea>\u001b[0m in \u001b[0;36mminimax\u001b[1;34m(board, depth, alpha, beta, maximizingPlayer)\u001b[0m\n\u001b[0;32m    141\u001b[0m                         \u001b[0mb_copy\u001b[0m \u001b[1;33m=\u001b[0m \u001b[0mboard\u001b[0m\u001b[1;33m.\u001b[0m\u001b[0mcopy\u001b[0m\u001b[1;33m(\u001b[0m\u001b[1;33m)\u001b[0m\u001b[1;33m\u001b[0m\u001b[1;33m\u001b[0m\u001b[0m\n\u001b[0;32m    142\u001b[0m                         \u001b[0mdrop_piece\u001b[0m\u001b[1;33m(\u001b[0m\u001b[0mb_copy\u001b[0m\u001b[1;33m,\u001b[0m \u001b[0mrow\u001b[0m\u001b[1;33m,\u001b[0m \u001b[0mcol\u001b[0m\u001b[1;33m,\u001b[0m \u001b[0mAI_PIECE\u001b[0m\u001b[1;33m)\u001b[0m\u001b[1;33m\u001b[0m\u001b[1;33m\u001b[0m\u001b[0m\n\u001b[1;32m--> 143\u001b[1;33m                         \u001b[0mnew_score\u001b[0m \u001b[1;33m=\u001b[0m \u001b[0mminimax\u001b[0m\u001b[1;33m(\u001b[0m\u001b[0mb_copy\u001b[0m\u001b[1;33m,\u001b[0m \u001b[0mdepth\u001b[0m\u001b[1;33m-\u001b[0m\u001b[1;36m1\u001b[0m\u001b[1;33m,\u001b[0m \u001b[0malpha\u001b[0m\u001b[1;33m,\u001b[0m \u001b[0mbeta\u001b[0m\u001b[1;33m,\u001b[0m \u001b[1;32mFalse\u001b[0m\u001b[1;33m)\u001b[0m\u001b[1;33m[\u001b[0m\u001b[1;36m1\u001b[0m\u001b[1;33m]\u001b[0m\u001b[1;33m\u001b[0m\u001b[1;33m\u001b[0m\u001b[0m\n\u001b[0m\u001b[0;32m    144\u001b[0m                         \u001b[1;32mif\u001b[0m \u001b[0mnew_score\u001b[0m \u001b[1;33m>\u001b[0m \u001b[0mvalue\u001b[0m\u001b[1;33m:\u001b[0m\u001b[1;33m\u001b[0m\u001b[1;33m\u001b[0m\u001b[0m\n\u001b[0;32m    145\u001b[0m                                 \u001b[0mvalue\u001b[0m \u001b[1;33m=\u001b[0m \u001b[0mnew_score\u001b[0m\u001b[1;33m\u001b[0m\u001b[1;33m\u001b[0m\u001b[0m\n",
      "\u001b[1;32m<ipython-input-1-bf1491a27eea>\u001b[0m in \u001b[0;36mminimax\u001b[1;34m(board, depth, alpha, beta, maximizingPlayer)\u001b[0m\n\u001b[0;32m    133\u001b[0m                                 \u001b[1;32mreturn\u001b[0m \u001b[1;33m(\u001b[0m\u001b[1;32mNone\u001b[0m\u001b[1;33m,\u001b[0m \u001b[1;36m0\u001b[0m\u001b[1;33m)\u001b[0m\u001b[1;33m\u001b[0m\u001b[1;33m\u001b[0m\u001b[0m\n\u001b[0;32m    134\u001b[0m                 \u001b[1;32melse\u001b[0m\u001b[1;33m:\u001b[0m \u001b[1;31m# Depth is zero\u001b[0m\u001b[1;33m\u001b[0m\u001b[1;33m\u001b[0m\u001b[0m\n\u001b[1;32m--> 135\u001b[1;33m                         \u001b[1;32mreturn\u001b[0m \u001b[1;33m(\u001b[0m\u001b[1;32mNone\u001b[0m\u001b[1;33m,\u001b[0m \u001b[0mscore_position\u001b[0m\u001b[1;33m(\u001b[0m\u001b[0mboard\u001b[0m\u001b[1;33m,\u001b[0m \u001b[0mAI_PIECE\u001b[0m\u001b[1;33m)\u001b[0m\u001b[1;33m)\u001b[0m\u001b[1;33m\u001b[0m\u001b[1;33m\u001b[0m\u001b[0m\n\u001b[0m\u001b[0;32m    136\u001b[0m         \u001b[1;32mif\u001b[0m \u001b[0mmaximizingPlayer\u001b[0m\u001b[1;33m:\u001b[0m\u001b[1;33m\u001b[0m\u001b[1;33m\u001b[0m\u001b[0m\n\u001b[0;32m    137\u001b[0m                 \u001b[0mvalue\u001b[0m \u001b[1;33m=\u001b[0m \u001b[1;33m-\u001b[0m\u001b[0mmath\u001b[0m\u001b[1;33m.\u001b[0m\u001b[0minf\u001b[0m\u001b[1;33m\u001b[0m\u001b[1;33m\u001b[0m\u001b[0m\n",
      "\u001b[1;32m<ipython-input-1-bf1491a27eea>\u001b[0m in \u001b[0;36mscore_position\u001b[1;34m(board, piece)\u001b[0m\n\u001b[0;32m    108\u001b[0m         \u001b[1;32mfor\u001b[0m \u001b[0mr\u001b[0m \u001b[1;32min\u001b[0m \u001b[0mrange\u001b[0m\u001b[1;33m(\u001b[0m\u001b[0mROW_COUNT\u001b[0m\u001b[1;33m-\u001b[0m\u001b[1;36m3\u001b[0m\u001b[1;33m)\u001b[0m\u001b[1;33m:\u001b[0m\u001b[1;33m\u001b[0m\u001b[1;33m\u001b[0m\u001b[0m\n\u001b[0;32m    109\u001b[0m                 \u001b[1;32mfor\u001b[0m \u001b[0mc\u001b[0m \u001b[1;32min\u001b[0m \u001b[0mrange\u001b[0m\u001b[1;33m(\u001b[0m\u001b[0mCOLUMN_COUNT\u001b[0m\u001b[1;33m-\u001b[0m\u001b[1;36m3\u001b[0m\u001b[1;33m)\u001b[0m\u001b[1;33m:\u001b[0m\u001b[1;33m\u001b[0m\u001b[1;33m\u001b[0m\u001b[0m\n\u001b[1;32m--> 110\u001b[1;33m                         \u001b[0mwindow\u001b[0m \u001b[1;33m=\u001b[0m \u001b[1;33m[\u001b[0m\u001b[0mboard\u001b[0m\u001b[1;33m[\u001b[0m\u001b[0mr\u001b[0m\u001b[1;33m+\u001b[0m\u001b[0mi\u001b[0m\u001b[1;33m]\u001b[0m\u001b[1;33m[\u001b[0m\u001b[0mc\u001b[0m\u001b[1;33m+\u001b[0m\u001b[0mi\u001b[0m\u001b[1;33m]\u001b[0m \u001b[1;32mfor\u001b[0m \u001b[0mi\u001b[0m \u001b[1;32min\u001b[0m \u001b[0mrange\u001b[0m\u001b[1;33m(\u001b[0m\u001b[0mWINDOW_LENGTH\u001b[0m\u001b[1;33m)\u001b[0m\u001b[1;33m]\u001b[0m\u001b[1;33m\u001b[0m\u001b[1;33m\u001b[0m\u001b[0m\n\u001b[0m\u001b[0;32m    111\u001b[0m                         \u001b[0mscore\u001b[0m \u001b[1;33m+=\u001b[0m \u001b[0mevaluate_window\u001b[0m\u001b[1;33m(\u001b[0m\u001b[0mwindow\u001b[0m\u001b[1;33m,\u001b[0m \u001b[0mpiece\u001b[0m\u001b[1;33m)\u001b[0m\u001b[1;33m\u001b[0m\u001b[1;33m\u001b[0m\u001b[0m\n\u001b[0;32m    112\u001b[0m \u001b[1;33m\u001b[0m\u001b[0m\n",
      "\u001b[1;32m<ipython-input-1-bf1491a27eea>\u001b[0m in \u001b[0;36m<listcomp>\u001b[1;34m(.0)\u001b[0m\n\u001b[0;32m    108\u001b[0m         \u001b[1;32mfor\u001b[0m \u001b[0mr\u001b[0m \u001b[1;32min\u001b[0m \u001b[0mrange\u001b[0m\u001b[1;33m(\u001b[0m\u001b[0mROW_COUNT\u001b[0m\u001b[1;33m-\u001b[0m\u001b[1;36m3\u001b[0m\u001b[1;33m)\u001b[0m\u001b[1;33m:\u001b[0m\u001b[1;33m\u001b[0m\u001b[1;33m\u001b[0m\u001b[0m\n\u001b[0;32m    109\u001b[0m                 \u001b[1;32mfor\u001b[0m \u001b[0mc\u001b[0m \u001b[1;32min\u001b[0m \u001b[0mrange\u001b[0m\u001b[1;33m(\u001b[0m\u001b[0mCOLUMN_COUNT\u001b[0m\u001b[1;33m-\u001b[0m\u001b[1;36m3\u001b[0m\u001b[1;33m)\u001b[0m\u001b[1;33m:\u001b[0m\u001b[1;33m\u001b[0m\u001b[1;33m\u001b[0m\u001b[0m\n\u001b[1;32m--> 110\u001b[1;33m                         \u001b[0mwindow\u001b[0m \u001b[1;33m=\u001b[0m \u001b[1;33m[\u001b[0m\u001b[0mboard\u001b[0m\u001b[1;33m[\u001b[0m\u001b[0mr\u001b[0m\u001b[1;33m+\u001b[0m\u001b[0mi\u001b[0m\u001b[1;33m]\u001b[0m\u001b[1;33m[\u001b[0m\u001b[0mc\u001b[0m\u001b[1;33m+\u001b[0m\u001b[0mi\u001b[0m\u001b[1;33m]\u001b[0m \u001b[1;32mfor\u001b[0m \u001b[0mi\u001b[0m \u001b[1;32min\u001b[0m \u001b[0mrange\u001b[0m\u001b[1;33m(\u001b[0m\u001b[0mWINDOW_LENGTH\u001b[0m\u001b[1;33m)\u001b[0m\u001b[1;33m]\u001b[0m\u001b[1;33m\u001b[0m\u001b[1;33m\u001b[0m\u001b[0m\n\u001b[0m\u001b[0;32m    111\u001b[0m                         \u001b[0mscore\u001b[0m \u001b[1;33m+=\u001b[0m \u001b[0mevaluate_window\u001b[0m\u001b[1;33m(\u001b[0m\u001b[0mwindow\u001b[0m\u001b[1;33m,\u001b[0m \u001b[0mpiece\u001b[0m\u001b[1;33m)\u001b[0m\u001b[1;33m\u001b[0m\u001b[1;33m\u001b[0m\u001b[0m\n\u001b[0;32m    112\u001b[0m \u001b[1;33m\u001b[0m\u001b[0m\n",
      "\u001b[1;31mIndexError\u001b[0m: index 6 is out of bounds for axis 0 with size 6"
     ]
    }
   ],
   "source": [
    "import numpy as np\n",
    "import random\n",
    "import pygame\n",
    "import sys\n",
    "import math\n",
    "\n",
    "BLUE = (0,0,255)\n",
    "BLACK = (0,0,0)\n",
    "RED = (255,0,0)\n",
    "YELLOW = (255,255,0)\n",
    "\n",
    "ROW_COUNT = 6\n",
    "COLUMN_COUNT = 7\n",
    "\n",
    "PLAYER = 0\n",
    "AI = 1\n",
    "\n",
    "EMPTY = 0\n",
    "PLAYER_PIECE = 1\n",
    "AI_PIECE = 2\n",
    "\n",
    "WINDOW_LENGTH = 8\n",
    "\n",
    "def create_board():\n",
    "\tboard = np.zeros((ROW_COUNT,COLUMN_COUNT))\n",
    "\treturn board\n",
    "\n",
    "def drop_piece(board, row, col, piece):\n",
    "\tboard[row][col] = piece\n",
    "\n",
    "def is_valid_location(board, col):\n",
    "\treturn board[ROW_COUNT-1][col] == 0\n",
    "\n",
    "def get_next_open_row(board, col):\n",
    "\tfor r in range(ROW_COUNT):\n",
    "\t\tif board[r][col] == 0:\n",
    "\t\t\treturn r\n",
    "\n",
    "def print_board(board):\n",
    "\tprint(np.flip(board, 0))\n",
    "\n",
    "def winning_move(board, piece):\n",
    "\t# Check horizontal locations for win\n",
    "\tfor c in range(COLUMN_COUNT-3):\n",
    "\t\tfor r in range(ROW_COUNT):\n",
    "\t\t\tif board[r][c] == piece and board[r][c+1] == piece and board[r][c+2] == piece and board[r][c+3] == piece:\n",
    "\t\t\t\treturn True\n",
    "\n",
    "\t# Check vertical locations for win\n",
    "\tfor c in range(COLUMN_COUNT):\n",
    "\t\tfor r in range(ROW_COUNT-3):\n",
    "\t\t\tif board[r][c] == piece and board[r+1][c] == piece and board[r+2][c] == piece and board[r+3][c] == piece:\n",
    "\t\t\t\treturn True\n",
    "\n",
    "\t# Check positively sloped diaganols\n",
    "\tfor c in range(COLUMN_COUNT-3):\n",
    "\t\tfor r in range(ROW_COUNT-3):\n",
    "\t\t\tif board[r][c] == piece and board[r+1][c+1] == piece and board[r+2][c+2] == piece and board[r+3][c+3] == piece:\n",
    "\t\t\t\treturn True\n",
    "\n",
    "\t# Check negatively sloped diaganols\n",
    "\tfor c in range(COLUMN_COUNT-3):\n",
    "\t\tfor r in range(3, ROW_COUNT):\n",
    "\t\t\tif board[r][c] == piece and board[r-1][c+1] == piece and board[r-2][c+2] == piece and board[r-3][c+3] == piece:\n",
    "\t\t\t\treturn True\n",
    "\n",
    "def evaluate_window(window, piece):\n",
    "\tscore = 0\n",
    "\topp_piece = PLAYER_PIECE\n",
    "\tif piece == PLAYER_PIECE:\n",
    "\t\topp_piece = AI_PIECE\n",
    "\n",
    "\tif window.count(piece) == 4:\n",
    "\t\tscore += 100\n",
    "\telif window.count(piece) == 3 and window.count(EMPTY) == 1:\n",
    "\t\tscore += 5\n",
    "\telif window.count(piece) == 2 and window.count(EMPTY) == 2:\n",
    "\t\tscore += 2\n",
    "\n",
    "\tif window.count(opp_piece) == 3 and window.count(EMPTY) == 1:\n",
    "\t\tscore -= 4\n",
    "\n",
    "\treturn score\n",
    "\n",
    "def score_position(board, piece):\n",
    "\tscore = 0\n",
    "\n",
    "\t## Score center column\n",
    "\tcenter_array = [int(i) for i in list(board[:, COLUMN_COUNT//2])]\n",
    "\tcenter_count = center_array.count(piece)\n",
    "\tscore += center_count * 3\n",
    "\n",
    "\t## Score Horizontal\n",
    "\tfor r in range(ROW_COUNT):\n",
    "\t\trow_array = [int(i) for i in list(board[r,:])]\n",
    "\t\tfor c in range(COLUMN_COUNT-3):\n",
    "\t\t\twindow = row_array[c:c+WINDOW_LENGTH]\n",
    "\t\t\tscore += evaluate_window(window, piece)\n",
    "\n",
    "\t## Score Vertical\n",
    "\tfor c in range(COLUMN_COUNT):\n",
    "\t\tcol_array = [int(i) for i in list(board[:,c])]\n",
    "\t\tfor r in range(ROW_COUNT-3):\n",
    "\t\t\twindow = col_array[r:r+WINDOW_LENGTH]\n",
    "\t\t\tscore += evaluate_window(window, piece)\n",
    "\n",
    "\t## Score posiive sloped diagonal\n",
    "\tfor r in range(ROW_COUNT-3):\n",
    "\t\tfor c in range(COLUMN_COUNT-3):\n",
    "\t\t\twindow = [board[r+i][c+i] for i in range(WINDOW_LENGTH)]\n",
    "\t\t\tscore += evaluate_window(window, piece)\n",
    "\n",
    "\tfor r in range(ROW_COUNT-3):\n",
    "\t\tfor c in range(COLUMN_COUNT-3):\n",
    "\t\t\twindow = [board[r+3-i][c+i] for i in range(WINDOW_LENGTH)]\n",
    "\t\t\tscore += evaluate_window(window, piece)\n",
    "\n",
    "\treturn score\n",
    "\n",
    "def is_terminal_node(board):\n",
    "\treturn winning_move(board, PLAYER_PIECE) or winning_move(board, AI_PIECE) or len(get_valid_locations(board)) == 0\n",
    "\n",
    "def minimax(board, depth, alpha, beta, maximizingPlayer):\n",
    "\tvalid_locations = get_valid_locations(board)\n",
    "\tis_terminal = is_terminal_node(board)\n",
    "\tif depth == 0 or is_terminal:\n",
    "\t\tif is_terminal:\n",
    "\t\t\tif winning_move(board, AI_PIECE):\n",
    "\t\t\t\treturn (None, 100000000000000)\n",
    "\t\t\telif winning_move(board, PLAYER_PIECE):\n",
    "\t\t\t\treturn (None, -10000000000000)\n",
    "\t\t\telse: # Game is over, no more valid moves\n",
    "\t\t\t\treturn (None, 0)\n",
    "\t\telse: # Depth is zero\n",
    "\t\t\treturn (None, score_position(board, AI_PIECE))\n",
    "\tif maximizingPlayer:\n",
    "\t\tvalue = -math.inf\n",
    "\t\tcolumn = random.choice(valid_locations)\n",
    "\t\tfor col in valid_locations:\n",
    "\t\t\trow = get_next_open_row(board, col)\n",
    "\t\t\tb_copy = board.copy()\n",
    "\t\t\tdrop_piece(b_copy, row, col, AI_PIECE)\n",
    "\t\t\tnew_score = minimax(b_copy, depth-1, alpha, beta, False)[1]\n",
    "\t\t\tif new_score > value:\n",
    "\t\t\t\tvalue = new_score\n",
    "\t\t\t\tcolumn = col\n",
    "\t\t\talpha = max(alpha, value)\n",
    "\t\t\tif alpha >= beta:\n",
    "\t\t\t\tbreak\n",
    "\t\treturn column, value\n",
    "\n",
    "\telse: # Minimizing player\n",
    "\t\tvalue = math.inf\n",
    "\t\tcolumn = random.choice(valid_locations)\n",
    "\t\tfor col in valid_locations:\n",
    "\t\t\trow = get_next_open_row(board, col)\n",
    "\t\t\tb_copy = board.copy()\n",
    "\t\t\tdrop_piece(b_copy, row, col, PLAYER_PIECE)\n",
    "\t\t\tnew_score = minimax(b_copy, depth-1, alpha, beta, True)[1]\n",
    "\t\t\tif new_score < value:\n",
    "\t\t\t\tvalue = new_score\n",
    "\t\t\t\tcolumn = col\n",
    "\t\t\tbeta = min(beta, value)\n",
    "\t\t\tif alpha >= beta:\n",
    "\t\t\t\tbreak\n",
    "\t\treturn column, value\n",
    "\n",
    "def get_valid_locations(board):\n",
    "\tvalid_locations = []\n",
    "\tfor col in range(COLUMN_COUNT):\n",
    "\t\tif is_valid_location(board, col):\n",
    "\t\t\tvalid_locations.append(col)\n",
    "\treturn valid_locations\n",
    "\n",
    "def pick_best_move(board, piece):\n",
    "\n",
    "\tvalid_locations = get_valid_locations(board)\n",
    "\tbest_score = -10000\n",
    "\tbest_col = random.choice(valid_locations)\n",
    "\tfor col in valid_locations:\n",
    "\t\trow = get_next_open_row(board, col)\n",
    "\t\ttemp_board = board.copy()\n",
    "\t\tdrop_piece(temp_board, row, col, piece)\n",
    "\t\tscore = score_position(temp_board, piece)\n",
    "\t\tif score > best_score:\n",
    "\t\t\tbest_score = score\n",
    "\t\t\tbest_col = col\n",
    "\n",
    "\treturn best_col\n",
    "\n",
    "def draw_board(board):\n",
    "\tfor c in range(COLUMN_COUNT):\n",
    "\t\tfor r in range(ROW_COUNT):\n",
    "\t\t\tpygame.draw.rect(screen, BLUE, (c*SQUARESIZE, r*SQUARESIZE+SQUARESIZE, SQUARESIZE, SQUARESIZE))\n",
    "\t\t\tpygame.draw.circle(screen, BLACK, (int(c*SQUARESIZE+SQUARESIZE/2), int(r*SQUARESIZE+SQUARESIZE+SQUARESIZE/2)), RADIUS)\n",
    "\t\n",
    "\tfor c in range(COLUMN_COUNT):\n",
    "\t\tfor r in range(ROW_COUNT):\t\t\n",
    "\t\t\tif board[r][c] == PLAYER_PIECE:\n",
    "\t\t\t\tpygame.draw.circle(screen, RED, (int(c*SQUARESIZE+SQUARESIZE/2), height-int(r*SQUARESIZE+SQUARESIZE/2)), RADIUS)\n",
    "\t\t\telif board[r][c] == AI_PIECE: \n",
    "\t\t\t\tpygame.draw.circle(screen, YELLOW, (int(c*SQUARESIZE+SQUARESIZE/2), height-int(r*SQUARESIZE+SQUARESIZE/2)), RADIUS)\n",
    "\tpygame.display.update()\n",
    "\n",
    "board = create_board()\n",
    "print_board(board)\n",
    "game_over = False\n",
    "\n",
    "pygame.init()\n",
    "\n",
    "SQUARESIZE = 100\n",
    "\n",
    "width = COLUMN_COUNT * SQUARESIZE\n",
    "height = (ROW_COUNT+1) * SQUARESIZE\n",
    "\n",
    "size = (width, height)\n",
    "\n",
    "RADIUS = int(SQUARESIZE/2 - 5)\n",
    "\n",
    "screen = pygame.display.set_mode(size)\n",
    "draw_board(board)\n",
    "pygame.display.update()\n",
    "\n",
    "myfont = pygame.font.SysFont(\"monospace\", 75)\n",
    "\n",
    "turn = random.randint(PLAYER, AI)\n",
    "\n",
    "while not game_over:\n",
    "\n",
    "\tfor event in pygame.event.get():\n",
    "\t\tif event.type == pygame.QUIT:\n",
    "\t\t\tsys.exit()\n",
    "\n",
    "\t\tif event.type == pygame.MOUSEMOTION:\n",
    "\t\t\tpygame.draw.rect(screen, BLACK, (0,0, width, SQUARESIZE))\n",
    "\t\t\tposx = event.pos[0]\n",
    "\t\t\tif turn == PLAYER:\n",
    "\t\t\t\tpygame.draw.circle(screen, RED, (posx, int(SQUARESIZE/2)), RADIUS)\n",
    "\n",
    "\t\tpygame.display.update()\n",
    "\n",
    "\t\tif event.type == pygame.MOUSEBUTTONDOWN:\n",
    "\t\t\tpygame.draw.rect(screen, BLACK, (0,0, width, SQUARESIZE))\n",
    "\t\t\t#print(event.pos)\n",
    "\t\t\t# Ask for Player 1 Input\n",
    "\t\t\tif turn == PLAYER:\n",
    "\t\t\t\tposx = event.pos[0]\n",
    "\t\t\t\tcol = int(math.floor(posx/SQUARESIZE))\n",
    "\n",
    "\t\t\t\tif is_valid_location(board, col):\n",
    "\t\t\t\t\trow = get_next_open_row(board, col)\n",
    "\t\t\t\t\tdrop_piece(board, row, col, PLAYER_PIECE)\n",
    "\n",
    "\t\t\t\t\tif winning_move(board, PLAYER_PIECE):\n",
    "\t\t\t\t\t\tlabel = myfont.render(\"Player 1 wins!!\", 1, RED)\n",
    "\t\t\t\t\t\tscreen.blit(label, (40,10))\n",
    "\t\t\t\t\t\tgame_over = True\n",
    "\n",
    "\t\t\t\t\tturn += 1\n",
    "\t\t\t\t\tturn = turn % 2\n",
    "\n",
    "\t\t\t\t\tprint_board(board)\n",
    "\t\t\t\t\tdraw_board(board)\n",
    "\n",
    "\n",
    "\t# # Ask for Player 2 Input\n",
    "\tif turn == AI and not game_over:\t\t\t\t\n",
    "\n",
    "\t\t#col = random.randint(0, COLUMN_COUNT-1)\n",
    "\t\t#col = pick_best_move(board, AI_PIECE)\n",
    "\t\tcol, minimax_score = minimax(board, 5, -math.inf, math.inf, True)\n",
    "\n",
    "\t\tif is_valid_location(board, col):\n",
    "\t\t\t#pygame.time.wait(500)\n",
    "\t\t\trow = get_next_open_row(board, col)\n",
    "\t\t\tdrop_piece(board, row, col, AI_PIECE)\n",
    "\n",
    "\t\t\tif winning_move(board, AI_PIECE):\n",
    "\t\t\t\tlabel = myfont.render(\"Player 2 wins!!\", 1, YELLOW)\n",
    "\t\t\t\tscreen.blit(label, (40,10))\n",
    "\t\t\t\tgame_over = True\n",
    "\n",
    "\t\t\tprint_board(board)\n",
    "\t\t\tdraw_board(board)\n",
    "\n",
    "\t\t\tturn += 1\n",
    "\t\t\tturn = turn % 2\n",
    "\n",
    "\tif game_over:\n",
    "\t\tpygame.time.wait(3000)"
   ]
  },
  {
   "cell_type": "code",
   "execution_count": null,
   "metadata": {},
   "outputs": [],
   "source": []
  },
  {
   "cell_type": "code",
   "execution_count": null,
   "metadata": {},
   "outputs": [],
   "source": []
  },
  {
   "cell_type": "code",
   "execution_count": 1,
   "metadata": {},
   "outputs": [
    {
     "ename": "SyntaxError",
     "evalue": "invalid syntax (<ipython-input-1-a804b550af49>, line 1)",
     "output_type": "error",
     "traceback": [
      "\u001b[1;36m  File \u001b[1;32m\"<ipython-input-1-a804b550af49>\"\u001b[1;36m, line \u001b[1;32m1\u001b[0m\n\u001b[1;33m    In [1]:\u001b[0m\n\u001b[1;37m           ^\u001b[0m\n\u001b[1;31mSyntaxError\u001b[0m\u001b[1;31m:\u001b[0m invalid syntax\n"
     ]
    }
   ],
   "source": [
    "In [1]:\n",
    "import tensorflow as tf"
   ]
  },
  {
   "cell_type": "code",
   "execution_count": 2,
   "metadata": {},
   "outputs": [],
   "source": [
    "import tensorflow as tf"
   ]
  },
  {
   "cell_type": "code",
   "execution_count": 3,
   "metadata": {},
   "outputs": [
    {
     "ename": "SyntaxError",
     "evalue": "Missing parentheses in call to 'print'. Did you mean print(hello)? (<ipython-input-3-e69f6db70277>, line 3)",
     "output_type": "error",
     "traceback": [
      "\u001b[1;36m  File \u001b[1;32m\"<ipython-input-3-e69f6db70277>\"\u001b[1;36m, line \u001b[1;32m3\u001b[0m\n\u001b[1;33m    print hello\u001b[0m\n\u001b[1;37m              ^\u001b[0m\n\u001b[1;31mSyntaxError\u001b[0m\u001b[1;31m:\u001b[0m Missing parentheses in call to 'print'. Did you mean print(hello)?\n"
     ]
    }
   ],
   "source": [
    "# Create a Tensor.\n",
    "hello = tf.constant(\"hello world\")\n",
    "print hello\n"
   ]
  },
  {
   "cell_type": "code",
   "execution_count": 4,
   "metadata": {},
   "outputs": [
    {
     "name": "stdout",
     "output_type": "stream",
     "text": [
      "tf.Tensor(b'hello world', shape=(), dtype=string)\n"
     ]
    }
   ],
   "source": [
    "# Create a Tensor.\n",
    "hello = tf.constant(\"hello world\")\n",
    "print(hello)"
   ]
  },
  {
   "cell_type": "code",
   "execution_count": 6,
   "metadata": {},
   "outputs": [
    {
     "name": "stdout",
     "output_type": "stream",
     "text": [
      "b'hello world'\n"
     ]
    }
   ],
   "source": [
    "# To access a Tensor value, call numpy().\n",
    "print(hello.numpy())"
   ]
  },
  {
   "cell_type": "code",
   "execution_count": 7,
   "metadata": {},
   "outputs": [
    {
     "name": "stderr",
     "output_type": "stream",
     "text": [
      "Using TensorFlow backend.\n"
     ]
    }
   ],
   "source": [
    "from keras.models import Sequential\n",
    "from keras.layers import Dense, Activation\n",
    "\n",
    "model = Sequential()\n",
    "model.add(Dense(64, activation='relu', input_dim=50)) #input shape of 50\n",
    "model.add(Dense(28, activation='relu')) #input shape of 50\n",
    "model.add(Dense(10, activation='softmax'))"
   ]
  },
  {
   "cell_type": "code",
   "execution_count": 1,
   "metadata": {},
   "outputs": [],
   "source": [
    "import django as dp"
   ]
  },
  {
   "cell_type": "code",
   "execution_count": 3,
   "metadata": {},
   "outputs": [
    {
     "ename": "TypeError",
     "evalue": "'module' object is not callable",
     "output_type": "error",
     "traceback": [
      "\u001b[1;31m---------------------------------------------------------------------------\u001b[0m",
      "\u001b[1;31mTypeError\u001b[0m                                 Traceback (most recent call last)",
      "\u001b[1;32m<ipython-input-3-8e30690b7612>\u001b[0m in \u001b[0;36m<module>\u001b[1;34m\u001b[0m\n\u001b[1;32m----> 1\u001b[1;33m \u001b[0mmd\u001b[0m\u001b[1;33m=\u001b[0m\u001b[0mdp\u001b[0m\u001b[1;33m(\u001b[0m\u001b[1;33m)\u001b[0m\u001b[1;33m\u001b[0m\u001b[1;33m\u001b[0m\u001b[0m\n\u001b[0m\u001b[0;32m      2\u001b[0m \u001b[0mmd\u001b[0m\u001b[1;33m.\u001b[0m\u001b[0madmin\u001b[0m\u001b[1;33m(\u001b[0m\u001b[0mproduct\u001b[0m\u001b[1;33m)\u001b[0m\u001b[1;33m\u001b[0m\u001b[1;33m\u001b[0m\u001b[0m\n",
      "\u001b[1;31mTypeError\u001b[0m: 'module' object is not callable"
     ]
    }
   ],
   "source": [
    "md=dp()\n",
    "md.admin(product)"
   ]
  },
  {
   "cell_type": "code",
   "execution_count": 4,
   "metadata": {},
   "outputs": [
    {
     "name": "stdout",
     "output_type": "stream",
     "text": [
      "Enter password: ········\n",
      "Verify password: ········\n"
     ]
    },
    {
     "data": {
      "text/plain": [
       "'sha1:0483c3e2bf51:229ae96a2c2f858aa1ea0d47ed57ee3398516e1a'"
      ]
     },
     "execution_count": 4,
     "metadata": {},
     "output_type": "execute_result"
    }
   ],
   "source": [
    "from notebook.auth import passwd\n",
    "passwd()"
   ]
  },
  {
   "cell_type": "code",
   "execution_count": null,
   "metadata": {},
   "outputs": [],
   "source": []
  }
 ],
 "metadata": {
  "kernelspec": {
   "display_name": "Python 3",
   "language": "python",
   "name": "python3"
  },
  "language_info": {
   "codemirror_mode": {
    "name": "ipython",
    "version": 3
   },
   "file_extension": ".py",
   "mimetype": "text/x-python",
   "name": "python",
   "nbconvert_exporter": "python",
   "pygments_lexer": "ipython3",
   "version": "3.7.3"
  }
 },
 "nbformat": 4,
 "nbformat_minor": 4
}
